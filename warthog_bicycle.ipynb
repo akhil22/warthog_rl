{
 "cells": [
  {
   "cell_type": "code",
   "execution_count": 10,
   "metadata": {},
   "outputs": [
    {
     "name": "stdout",
     "output_type": "stream",
     "text": [
      "Using matplotlib backend: TkAgg\n"
     ]
    }
   ],
   "source": [
    "import gym\n",
    "from env.WarthogEnv import WarthogEnv\n",
    "from stable_baselines3.common.vec_env import DummyVecEnv\n",
    "from stable_baselines3.common.vec_env import SubprocVecEnv\n",
    "from stable_baselines3.common import make_vec_env\n",
    "from stable_baselines3.common.utils import set_random_seed\n",
    "import numpy as np\n",
    "%matplotlib\n",
    "from matplotlib import pyplot as plt\n",
    "from stable_baselines3 import PPO\n",
    "import torch"
   ]
  },
  {
   "cell_type": "code",
   "execution_count": null,
   "metadata": {},
   "outputs": [],
   "source": [
    "from typing import Callable\n",
    "\n",
    "def make_env(env_id: str, rank: int, seed: int = 0) -> Callable:\n",
    "    \"\"\"\n",
    "    Utility function for multiprocessed env.\n",
    "    \n",
    "    :param env_id: (str) the environment ID\n",
    "    :param num_env: (int) the number of environment you wish to have in subprocesses\n",
    "    :param seed: (int) the inital seed for RNG\n",
    "    :param rank: (int) index of the subprocess\n",
    "    :return: (Callable)\n",
    "    \"\"\"\n",
    "    def _init() -> gym.Env:\n",
    "        env = WarthogEnv('unity_remote.txt')\n",
    "        env = gym.make(env_id)\n",
    "        env.seed(seed + rank)\n",
    "        return env\n",
    "    set_random_seed(seed)\n",
    "    return _init"
   ]
  },
  {
   "cell_type": "code",
   "execution_count": null,
   "metadata": {},
   "outputs": [],
   "source": [
    "env_id = \"CartPole-v1\"\n",
    "num_cpu = 2  # Number of processes to use\n",
    "    # Create the vectorized environment\n",
    "env = SubprocVecEnv([make_env(env_id, i) for i in range(num_cpu)])\n"
   ]
  },
  {
   "cell_type": "code",
   "execution_count": 11,
   "metadata": {},
   "outputs": [],
   "source": [
    "env = WarthogEnv('unity_remote.txt')"
   ]
  },
  {
   "cell_type": "code",
   "execution_count": null,
   "metadata": {},
   "outputs": [],
   "source": [
    "#env = DummyVecEnv([lambda: WarthogEnv('unity_remote.txt')])\n",
    "#env = WarthogEnv('unity_remote.txt')\n",
    "x = []\n",
    "y = []\n",
    "env.reset()\n",
    "for i in range(0,5000):\n",
    "    action = [0.5,0.1]\n",
    "    obs, reward, done, info = env.step(action)\n",
    "    env.render()\n",
    "    #x.append(info[0][0])\n",
    "    #y.append(info[0][1])\n",
    "    if done:\n",
    "        #print(\"resetting\")\n",
    "        env.reset()"
   ]
  },
  {
   "cell_type": "code",
   "execution_count": null,
   "metadata": {},
   "outputs": [],
   "source": [
    "env = WarthogEnv('unity_remote.txt')\n",
    "#obs = env.reset()\n",
    "#print(obs)\n",
    "model = PPO('MlpPolicy', env, verbose=1)"
   ]
  },
  {
   "cell_type": "code",
   "execution_count": null,
   "metadata": {},
   "outputs": [],
   "source": [
    "model.learn(total_timesteps=1e7)"
   ]
  },
  {
   "cell_type": "code",
   "execution_count": null,
   "metadata": {},
   "outputs": [],
   "source": [
    "x = []\n",
    "y = []\n",
    "env.reset()\n",
    "for i in range(0,1000):\n",
    "    action = [0.5,0.1]\n",
    "    obs, reward, done, info = env.step(action)\n",
    "    env.render()\n",
    "    #x.append(info[0][0])\n",
    "    #y.append(info[0][1])\n",
    "    if done:\n",
    "        print(\"resetting\")\n",
    "        env.reset()\n",
    "    #print(info)\n"
   ]
  },
  {
   "cell_type": "code",
   "execution_count": null,
   "metadata": {},
   "outputs": [],
   "source": [
    "print(env.num_waypoints)"
   ]
  },
  {
   "cell_type": "code",
   "execution_count": null,
   "metadata": {},
   "outputs": [],
   "source": [
    "plt.plot(x,y,'+r')\n",
    "plt.ylim(-3, 9)\n",
    "plt.xlim(9, 21)"
   ]
  },
  {
   "cell_type": "code",
   "execution_count": null,
   "metadata": {},
   "outputs": [],
   "source": [
    "model.save(\"bicycle4\")"
   ]
  },
  {
   "cell_type": "code",
   "execution_count": 83,
   "metadata": {},
   "outputs": [],
   "source": [
    "env = WarthogEnv('unity_remote.txt')"
   ]
  },
  {
   "cell_type": "code",
   "execution_count": null,
   "metadata": {},
   "outputs": [],
   "source": [
    "model1 = PPO('MlpPolicy', env, verbose=1)\n",
    "#for learning uncomment\n",
    "model = PPO('MlpPolicy', env, verbose=1)\n",
    "# model.load('./first_pytorch_multiplication_reward.zip')\n",
    "model = PPO.load('bicycle4')\n",
    "model.env = model1.env\n",
    "model.learn(total_timesteps=1e7)"
   ]
  },
  {
   "cell_type": "code",
   "execution_count": 85,
   "metadata": {},
   "outputs": [
    {
     "name": "stdout",
     "output_type": "stream",
     "text": [
      "Using cpu device\n",
      "Wrapping the env in a DummyVecEnv.\n",
      "Using cpu device\n",
      "Wrapping the env in a DummyVecEnv.\n"
     ]
    }
   ],
   "source": [
    "model1 = PPO('MlpPolicy', env, verbose=1)\n",
    "model = PPO('MlpPolicy', env, verbose=1)\n",
    "model = PPO.load('samestart7')\n",
    "model.env = model1.env\n",
    "act1 = []\n",
    "act2 = []\n",
    "reward = 0\n",
    "with torch.no_grad():\n",
    "    model.policy.eval()\n",
    "    #envg = model.get_env()\n",
    "    obs = env.reset()\n",
    "    #t1 = time.time()\n",
    "    for i in range(5000):\n",
    "      #  t2 = time.time()\n",
    "        #action, _states = model.predict(obs, deterministic=False) \n",
    "        action, _states = model.predict(obs)\n",
    "       # print(action)\n",
    "        act1.append(np.clip(action[0], 0 ,1)*4)\n",
    "        act2.append(np.clip(action[1], -1 ,1)*2.5)\n",
    "        #act2.append(reward) \n",
    "        #action[0] = np.clip(action[0], 0, 1)*4\n",
    "        #action[1] = np.clip(action[1], -1, 1)*2.5\n",
    "        obs, reward, done, info = env.step(action)\n",
    "        #print(t2-t1)\n",
    "        #if t2 -t1 < 0.3:\n",
    "           # time.sleep(0.3 - (t2-t1))\n",
    "        #t1 = t2\n",
    "    #print(action)\n",
    "        #env.render()\n",
    "        if done:\n",
    "          obs = env.reset()"
   ]
  },
  {
   "cell_type": "code",
   "execution_count": 86,
   "metadata": {},
   "outputs": [],
   "source": [
    "plt.plot(act1)\n",
    "plt.show()"
   ]
  },
  {
   "cell_type": "code",
   "execution_count": 87,
   "metadata": {},
   "outputs": [],
   "source": [
    "plt.figure()\n",
    "plt.plot(act2)\n",
    "plt.show()"
   ]
  },
  {
   "cell_type": "code",
   "execution_count": null,
   "metadata": {},
   "outputs": [],
   "source": []
  },
  {
   "cell_type": "code",
   "execution_count": null,
   "metadata": {},
   "outputs": [],
   "source": []
  }
 ],
 "metadata": {
  "kernelspec": {
   "display_name": "Python 3",
   "language": "python",
   "name": "python3"
  },
  "language_info": {
   "codemirror_mode": {
    "name": "ipython",
    "version": 3
   },
   "file_extension": ".py",
   "mimetype": "text/x-python",
   "name": "python",
   "nbconvert_exporter": "python",
   "pygments_lexer": "ipython3",
   "version": "3.7.3"
  }
 },
 "nbformat": 4,
 "nbformat_minor": 4
}
