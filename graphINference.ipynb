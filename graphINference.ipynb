{
 "cells": [
  {
   "cell_type": "code",
   "execution_count": 1,
   "metadata": {},
   "outputs": [
    {
     "name": "stderr",
     "output_type": "stream",
     "text": [
      "/home/sai/.conda/envs/cs231n/lib/python3.7/site-packages/tensorflow/python/framework/dtypes.py:516: FutureWarning: Passing (type, 1) or '1type' as a synonym of type is deprecated; in a future version of numpy, it will be understood as (type, (1,)) / '(1,)type'.\n",
      "  _np_qint8 = np.dtype([(\"qint8\", np.int8, 1)])\n",
      "/home/sai/.conda/envs/cs231n/lib/python3.7/site-packages/tensorflow/python/framework/dtypes.py:517: FutureWarning: Passing (type, 1) or '1type' as a synonym of type is deprecated; in a future version of numpy, it will be understood as (type, (1,)) / '(1,)type'.\n",
      "  _np_quint8 = np.dtype([(\"quint8\", np.uint8, 1)])\n",
      "/home/sai/.conda/envs/cs231n/lib/python3.7/site-packages/tensorflow/python/framework/dtypes.py:518: FutureWarning: Passing (type, 1) or '1type' as a synonym of type is deprecated; in a future version of numpy, it will be understood as (type, (1,)) / '(1,)type'.\n",
      "  _np_qint16 = np.dtype([(\"qint16\", np.int16, 1)])\n",
      "/home/sai/.conda/envs/cs231n/lib/python3.7/site-packages/tensorflow/python/framework/dtypes.py:519: FutureWarning: Passing (type, 1) or '1type' as a synonym of type is deprecated; in a future version of numpy, it will be understood as (type, (1,)) / '(1,)type'.\n",
      "  _np_quint16 = np.dtype([(\"quint16\", np.uint16, 1)])\n",
      "/home/sai/.conda/envs/cs231n/lib/python3.7/site-packages/tensorflow/python/framework/dtypes.py:520: FutureWarning: Passing (type, 1) or '1type' as a synonym of type is deprecated; in a future version of numpy, it will be understood as (type, (1,)) / '(1,)type'.\n",
      "  _np_qint32 = np.dtype([(\"qint32\", np.int32, 1)])\n",
      "/home/sai/.conda/envs/cs231n/lib/python3.7/site-packages/tensorflow/python/framework/dtypes.py:525: FutureWarning: Passing (type, 1) or '1type' as a synonym of type is deprecated; in a future version of numpy, it will be understood as (type, (1,)) / '(1,)type'.\n",
      "  np_resource = np.dtype([(\"resource\", np.ubyte, 1)])\n",
      "/home/sai/.conda/envs/cs231n/lib/python3.7/site-packages/tensorboard/compat/tensorflow_stub/dtypes.py:541: FutureWarning: Passing (type, 1) or '1type' as a synonym of type is deprecated; in a future version of numpy, it will be understood as (type, (1,)) / '(1,)type'.\n",
      "  _np_qint8 = np.dtype([(\"qint8\", np.int8, 1)])\n",
      "/home/sai/.conda/envs/cs231n/lib/python3.7/site-packages/tensorboard/compat/tensorflow_stub/dtypes.py:542: FutureWarning: Passing (type, 1) or '1type' as a synonym of type is deprecated; in a future version of numpy, it will be understood as (type, (1,)) / '(1,)type'.\n",
      "  _np_quint8 = np.dtype([(\"quint8\", np.uint8, 1)])\n",
      "/home/sai/.conda/envs/cs231n/lib/python3.7/site-packages/tensorboard/compat/tensorflow_stub/dtypes.py:543: FutureWarning: Passing (type, 1) or '1type' as a synonym of type is deprecated; in a future version of numpy, it will be understood as (type, (1,)) / '(1,)type'.\n",
      "  _np_qint16 = np.dtype([(\"qint16\", np.int16, 1)])\n",
      "/home/sai/.conda/envs/cs231n/lib/python3.7/site-packages/tensorboard/compat/tensorflow_stub/dtypes.py:544: FutureWarning: Passing (type, 1) or '1type' as a synonym of type is deprecated; in a future version of numpy, it will be understood as (type, (1,)) / '(1,)type'.\n",
      "  _np_quint16 = np.dtype([(\"quint16\", np.uint16, 1)])\n",
      "/home/sai/.conda/envs/cs231n/lib/python3.7/site-packages/tensorboard/compat/tensorflow_stub/dtypes.py:545: FutureWarning: Passing (type, 1) or '1type' as a synonym of type is deprecated; in a future version of numpy, it will be understood as (type, (1,)) / '(1,)type'.\n",
      "  _np_qint32 = np.dtype([(\"qint32\", np.int32, 1)])\n",
      "/home/sai/.conda/envs/cs231n/lib/python3.7/site-packages/tensorboard/compat/tensorflow_stub/dtypes.py:550: FutureWarning: Passing (type, 1) or '1type' as a synonym of type is deprecated; in a future version of numpy, it will be understood as (type, (1,)) / '(1,)type'.\n",
      "  np_resource = np.dtype([(\"resource\", np.ubyte, 1)])\n"
     ]
    }
   ],
   "source": [
    "import tensorflow as tf"
   ]
  },
  {
   "cell_type": "code",
   "execution_count": 49,
   "metadata": {},
   "outputs": [
    {
     "name": "stdout",
     "output_type": "stream",
     "text": [
      "INFO:tensorflow:Restoring parameters from ./model-500806.ckpt\n",
      "INFO:tensorflow:Froze 10 variables.\n",
      "INFO:tensorflow:Converted 10 variables to const ops.\n"
     ]
    }
   ],
   "source": [
    "folder = './'\n",
    "file = 'model-500806.ckpt.meta'\n",
    "sess = tf.Session()    \n",
    "saver = tf.train.import_meta_graph(folder+file)\n",
    "with sess.as_default() as sess:\n",
    "    saver.restore(sess,tf.train.latest_checkpoint(folder))\n",
    "output_graph_def = tf.graph_util.convert_variables_to_constants(\n",
    "            sess, # The session is used to retrieve the weights\n",
    "            tf.get_default_graph().as_graph_def(),\n",
    "            [\"action\"]# The graph_def is used to retrieve the nodes  # The output node names are used to select the usefull nodes\n",
    "        ) \n",
    "output_graph=\"./dogs-cats-model.pb\"\n",
    "with tf.gfile.GFile(output_graph, \"wb\") as f:\n",
    "    f.write(output_graph_def.SerializeToString())\n",
    "sess.close()"
   ]
  },
  {
   "cell_type": "code",
   "execution_count": 51,
   "metadata": {},
   "outputs": [],
   "source": [
    "frozen_graph=\"./dogs-cats-model.pb\"\n",
    "with tf.gfile.GFile(frozen_graph, \"rb\") as f:\n",
    "      graph_def = tf.GraphDef()\n",
    "      graph_def.ParseFromString(f.read())\n",
    " \n",
    "with tf.Graph().as_default() as graph:\n",
    "      tf.import_graph_def(graph_def,\n",
    "                          input_map=None,\n",
    "                          return_elements=None,\n",
    "                          name=\"\")"
   ]
  },
  {
   "cell_type": "code",
   "execution_count": 52,
   "metadata": {},
   "outputs": [],
   "source": [
    "w1 = graph.get_tensor_by_name(\"vector_observation:0\")"
   ]
  },
  {
   "cell_type": "code",
   "execution_count": 53,
   "metadata": {},
   "outputs": [],
   "source": [
    "import numpy as np\n",
    "feed_dict = {w1:np.random.rand(1,42)}"
   ]
  },
  {
   "cell_type": "code",
   "execution_count": 72,
   "metadata": {},
   "outputs": [
    {
     "name": "stdout",
     "output_type": "stream",
     "text": [
      "[[ 0.52686495 -0.27530786]]\n"
     ]
    }
   ],
   "source": [
    "sess = tf.Session(graph= graph)\n",
    "op = graph.get_tensor_by_name(\"action:0\")\n",
    "print(sess.run(op, feed_dict))"
   ]
  },
  {
   "cell_type": "code",
   "execution_count": 66,
   "metadata": {},
   "outputs": [
    {
     "name": "stdout",
     "output_type": "stream",
     "text": [
      "[[-0.43747187  0.23002706]]\n"
     ]
    }
   ],
   "source": [
    "with sess.as_default() as sess:\n",
    "    print(sess.run(\"action:0\", feed_dict))"
   ]
  },
  {
   "cell_type": "code",
   "execution_count": 71,
   "metadata": {},
   "outputs": [
    {
     "name": "stdout",
     "output_type": "stream",
     "text": [
      "[[-0.45110226  0.5142297 ]]\n"
     ]
    }
   ],
   "source": [
    "with sess.as_default() as sess:\n",
    "    print(op.eval(feed_dict))"
   ]
  },
  {
   "cell_type": "code",
   "execution_count": 76,
   "metadata": {},
   "outputs": [
    {
     "name": "stdout",
     "output_type": "stream",
     "text": [
      "[[0.14776514 0.1019797 ]]\n"
     ]
    }
   ],
   "source": [
    "op = graph.get_tensor_by_name(\"action:0\")\n",
    "print(sess.run(op, feed_dict))"
   ]
  },
  {
   "cell_type": "code",
   "execution_count": 75,
   "metadata": {},
   "outputs": [
    {
     "name": "stdout",
     "output_type": "stream",
     "text": [
      "{<tf.Tensor 'vector_observation:0' shape=(?, 42) dtype=float32>: array([[0.35153244, 0.83004388, 0.52023986, 0.00613653, 0.09829448,\n",
      "        0.09286162, 0.86073891, 0.91827396, 0.56635227, 0.56871414,\n",
      "        0.26759645, 0.94488274, 0.50663586, 0.98145577, 0.77538203,\n",
      "        0.9545396 , 0.48356375, 0.7419566 , 0.02212592, 0.62356835,\n",
      "        0.30370853, 0.57289499, 0.60757296, 0.84101445, 0.34708852,\n",
      "        0.94396402, 0.5665861 , 0.70916464, 0.65078087, 0.18058855,\n",
      "        0.89537915, 0.52565546, 0.34320401, 0.18124406, 0.19237921,\n",
      "        0.63016116, 0.33481808, 0.71768253, 0.96591474, 0.01590658,\n",
      "        0.79192762, 0.66281535]])}\n"
     ]
    }
   ],
   "source": [
    "print(feed_dict)"
   ]
  },
  {
   "cell_type": "code",
   "execution_count": 77,
   "metadata": {},
   "outputs": [
    {
     "name": "stdout",
     "output_type": "stream",
     "text": [
      "{<tf.Tensor 'vector_observation:0' shape=(?, 42) dtype=float32>: array([[0.35153244, 0.83004388, 0.52023986, 0.00613653, 0.09829448,\n",
      "        0.09286162, 0.86073891, 0.91827396, 0.56635227, 0.56871414,\n",
      "        0.26759645, 0.94488274, 0.50663586, 0.98145577, 0.77538203,\n",
      "        0.9545396 , 0.48356375, 0.7419566 , 0.02212592, 0.62356835,\n",
      "        0.30370853, 0.57289499, 0.60757296, 0.84101445, 0.34708852,\n",
      "        0.94396402, 0.5665861 , 0.70916464, 0.65078087, 0.18058855,\n",
      "        0.89537915, 0.52565546, 0.34320401, 0.18124406, 0.19237921,\n",
      "        0.63016116, 0.33481808, 0.71768253, 0.96591474, 0.01590658,\n",
      "        0.79192762, 0.66281535]])}\n"
     ]
    }
   ],
   "source": [
    "print(feed_dict)"
   ]
  },
  {
   "cell_type": "code",
   "execution_count": 78,
   "metadata": {},
   "outputs": [],
   "source": [
    "def display_nodes(nodes):\n",
    "    for i, node in enumerate(nodes):\n",
    "        print('%d %s %s' % (i, node.name, node.op))\n",
    "        [print(u'└─── %d ─ %s' % (i, n)) for i, n in enumerate(node.input)]"
   ]
  },
  {
   "cell_type": "code",
   "execution_count": 81,
   "metadata": {},
   "outputs": [],
   "source": [
    "display_nodes(tf.GraphDef().node)"
   ]
  },
  {
   "cell_type": "code",
   "execution_count": 90,
   "metadata": {},
   "outputs": [
    {
     "name": "stdout",
     "output_type": "stream",
     "text": [
      "0.021146535873413086\n"
     ]
    }
   ],
   "source": [
    "import time\n",
    "with tf.Session() as sess:\n",
    "    # or creating the writer inside the session\n",
    "    writer = tf.summary.FileWriter('./graphs', sess.graph)\n",
    "    t0 = time.time()\n",
    "    for i in range(1,100):\n",
    "        sess = tf.Session(graph= graph)\n",
    "        op = graph.get_tensor_by_name(\"action:0\")\n",
    "        #print(sess.run(op, feed_dict))\n",
    "    t1 = time.time()\n",
    "    print(t1-t0)"
   ]
  },
  {
   "cell_type": "code",
   "execution_count": 84,
   "metadata": {},
   "outputs": [],
   "source": [
    "import tensorboard\n",
    "%load_ext tensorboard"
   ]
  },
  {
   "cell_type": "code",
   "execution_count": 86,
   "metadata": {},
   "outputs": [
    {
     "data": {
      "text/plain": [
       "ERROR: Failed to launch TensorBoard (exited with 2).\n",
       "Contents of stderr:\n",
       "/home/sai/.conda/envs/cs231n/lib/python3.7/site-packages/tensorboard/compat/tensorflow_stub/dtypes.py:541: FutureWarning: Passing (type, 1) or '1type' as a synonym of type is deprecated; in a future version of numpy, it will be understood as (type, (1,)) / '(1,)type'.\n",
       "  _np_qint8 = np.dtype([(\"qint8\", np.int8, 1)])\n",
       "/home/sai/.conda/envs/cs231n/lib/python3.7/site-packages/tensorboard/compat/tensorflow_stub/dtypes.py:542: FutureWarning: Passing (type, 1) or '1type' as a synonym of type is deprecated; in a future version of numpy, it will be understood as (type, (1,)) / '(1,)type'.\n",
       "  _np_quint8 = np.dtype([(\"quint8\", np.uint8, 1)])\n",
       "/home/sai/.conda/envs/cs231n/lib/python3.7/site-packages/tensorboard/compat/tensorflow_stub/dtypes.py:543: FutureWarning: Passing (type, 1) or '1type' as a synonym of type is deprecated; in a future version of numpy, it will be understood as (type, (1,)) / '(1,)type'.\n",
       "  _np_qint16 = np.dtype([(\"qint16\", np.int16, 1)])\n",
       "/home/sai/.conda/envs/cs231n/lib/python3.7/site-packages/tensorboard/compat/tensorflow_stub/dtypes.py:544: FutureWarning: Passing (type, 1) or '1type' as a synonym of type is deprecated; in a future version of numpy, it will be understood as (type, (1,)) / '(1,)type'.\n",
       "  _np_quint16 = np.dtype([(\"quint16\", np.uint16, 1)])\n",
       "/home/sai/.conda/envs/cs231n/lib/python3.7/site-packages/tensorboard/compat/tensorflow_stub/dtypes.py:545: FutureWarning: Passing (type, 1) or '1type' as a synonym of type is deprecated; in a future version of numpy, it will be understood as (type, (1,)) / '(1,)type'.\n",
       "  _np_qint32 = np.dtype([(\"qint32\", np.int32, 1)])\n",
       "/home/sai/.conda/envs/cs231n/lib/python3.7/site-packages/tensorboard/compat/tensorflow_stub/dtypes.py:550: FutureWarning: Passing (type, 1) or '1type' as a synonym of type is deprecated; in a future version of numpy, it will be understood as (type, (1,)) / '(1,)type'.\n",
       "  np_resource = np.dtype([(\"resource\", np.ubyte, 1)])\n",
       "/home/sai/.conda/envs/cs231n/lib/python3.7/site-packages/tensorflow/python/framework/dtypes.py:516: FutureWarning: Passing (type, 1) or '1type' as a synonym of type is deprecated; in a future version of numpy, it will be understood as (type, (1,)) / '(1,)type'.\n",
       "  _np_qint8 = np.dtype([(\"qint8\", np.int8, 1)])\n",
       "/home/sai/.conda/envs/cs231n/lib/python3.7/site-packages/tensorflow/python/framework/dtypes.py:517: FutureWarning: Passing (type, 1) or '1type' as a synonym of type is deprecated; in a future version of numpy, it will be understood as (type, (1,)) / '(1,)type'.\n",
       "  _np_quint8 = np.dtype([(\"quint8\", np.uint8, 1)])\n",
       "/home/sai/.conda/envs/cs231n/lib/python3.7/site-packages/tensorflow/python/framework/dtypes.py:518: FutureWarning: Passing (type, 1) or '1type' as a synonym of type is deprecated; in a future version of numpy, it will be understood as (type, (1,)) / '(1,)type'.\n",
       "  _np_qint16 = np.dtype([(\"qint16\", np.int16, 1)])\n",
       "/home/sai/.conda/envs/cs231n/lib/python3.7/site-packages/tensorflow/python/framework/dtypes.py:519: FutureWarning: Passing (type, 1) or '1type' as a synonym of type is deprecated; in a future version of numpy, it will be understood as (type, (1,)) / '(1,)type'.\n",
       "  _np_quint16 = np.dtype([(\"quint16\", np.uint16, 1)])\n",
       "/home/sai/.conda/envs/cs231n/lib/python3.7/site-packages/tensorflow/python/framework/dtypes.py:520: FutureWarning: Passing (type, 1) or '1type' as a synonym of type is deprecated; in a future version of numpy, it will be understood as (type, (1,)) / '(1,)type'.\n",
       "  _np_qint32 = np.dtype([(\"qint32\", np.int32, 1)])\n",
       "/home/sai/.conda/envs/cs231n/lib/python3.7/site-packages/tensorflow/python/framework/dtypes.py:525: FutureWarning: Passing (type, 1) or '1type' as a synonym of type is deprecated; in a future version of numpy, it will be understood as (type, (1,)) / '(1,)type'.\n",
       "  np_resource = np.dtype([(\"resource\", np.ubyte, 1)])\n",
       "usage: tensorboard [-h] [--helpfull] [--logdir PATH] [--host ADDR]\n",
       "                   [--port PORT] [--purge_orphaned_data BOOL]\n",
       "                   [--reload_interval SECONDS] [--db URI] [--db_import]\n",
       "                   [--db_import_use_op] [--inspect] [--version_tb] [--tag TAG]\n",
       "                   [--event_file PATH] [--path_prefix PATH]\n",
       "                   [--window_title TEXT] [--max_reload_threads COUNT]\n",
       "                   [--reload_task TYPE]\n",
       "                   [--samples_per_plugin SAMPLES_PER_PLUGIN]\n",
       "                   [--debugger_data_server_grpc_port PORT]\n",
       "                   [--debugger_port PORT] [--master_tpu_unsecure_channel ADDR]\n",
       "tensorboard: error: unrecognized arguments: inline"
      ]
     },
     "metadata": {},
     "output_type": "display_data"
    },
    {
     "name": "stderr",
     "output_type": "stream",
     "text": [
      "invalid info file: '/tmp/.tensorboard-info/pid-10591.info'\n",
      "Traceback (most recent call last):\n",
      "  File \"/home/sai/.conda/envs/cs231n/lib/python3.7/site-packages/tensorboard/manager.py\", line 316, in get_all\n",
      "    info = _info_from_string(contents)\n",
      "  File \"/home/sai/.conda/envs/cs231n/lib/python3.7/site-packages/tensorboard/manager.py\", line 155, in _info_from_string\n",
      "    raise ValueError(\"incompatible version: %r\" % (json_value,))\n",
      "ValueError: incompatible version: {'cache_key': 'eyJhcmd1bWVudHMiOlsiLS1sb2dkaXIiLCJsb2dkaXIiXSwiY29uZmlndXJlX2t3YXJncyI6e30sIndvcmtpbmdfZGlyZWN0b3J5IjoiL2hvbWUvc2FpL2hkZDEvbWwtbWFzdGVyL21sLWFnZW50cy9neW0tdW5pdHkifQ==', 'db': '', 'logdir': 'logdir', 'path_prefix': '', 'pid': 10591, 'port': 6008, 'start_time': 1595833491, 'version': '2.0.1'}\n",
      "invalid info file: '/tmp/.tensorboard-info/pid-10110.info'\n",
      "Traceback (most recent call last):\n",
      "  File \"/home/sai/.conda/envs/cs231n/lib/python3.7/site-packages/tensorboard/manager.py\", line 316, in get_all\n",
      "    info = _info_from_string(contents)\n",
      "  File \"/home/sai/.conda/envs/cs231n/lib/python3.7/site-packages/tensorboard/manager.py\", line 155, in _info_from_string\n",
      "    raise ValueError(\"incompatible version: %r\" % (json_value,))\n",
      "ValueError: incompatible version: {'cache_key': 'eyJhcmd1bWVudHMiOlsiLS1sb2dkaXIiLCJvdXRwdXQiXSwiY29uZmlndXJlX2t3YXJncyI6e30sIndvcmtpbmdfZGlyZWN0b3J5IjoiL2hvbWUvc2FpL2hkZDEvbWwtbWFzdGVyL21sLWFnZW50cy9neW0tdW5pdHkifQ==', 'db': '', 'logdir': 'output', 'path_prefix': '', 'pid': 10110, 'port': 6007, 'start_time': 1595832794, 'version': '2.0.1'}\n",
      "invalid info file: '/tmp/.tensorboard-info/pid-9874.info'\n",
      "Traceback (most recent call last):\n",
      "  File \"/home/sai/.conda/envs/cs231n/lib/python3.7/site-packages/tensorboard/manager.py\", line 316, in get_all\n",
      "    info = _info_from_string(contents)\n",
      "  File \"/home/sai/.conda/envs/cs231n/lib/python3.7/site-packages/tensorboard/manager.py\", line 155, in _info_from_string\n",
      "    raise ValueError(\"incompatible version: %r\" % (json_value,))\n",
      "ValueError: incompatible version: {'cache_key': 'eyJhcmd1bWVudHMiOlsiLS1sb2dkaXIiLCJsb2dzIl0sImNvbmZpZ3VyZV9rd2FyZ3MiOnt9LCJ3b3JraW5nX2RpcmVjdG9yeSI6Ii9ob21lL3NhaS9oZGQxL21sLW1hc3Rlci9tbC1hZ2VudHMvZ3ltLXVuaXR5In0=', 'db': '', 'logdir': 'logs', 'path_prefix': '', 'pid': 9874, 'port': 6006, 'start_time': 1595832278, 'version': '2.0.1'}\n",
      "invalid info file: '/tmp/.tensorboard-info/pid-10591.info'\n",
      "Traceback (most recent call last):\n",
      "  File \"/home/sai/.conda/envs/cs231n/lib/python3.7/site-packages/tensorboard/manager.py\", line 316, in get_all\n",
      "    info = _info_from_string(contents)\n",
      "  File \"/home/sai/.conda/envs/cs231n/lib/python3.7/site-packages/tensorboard/manager.py\", line 155, in _info_from_string\n",
      "    raise ValueError(\"incompatible version: %r\" % (json_value,))\n",
      "ValueError: incompatible version: {'cache_key': 'eyJhcmd1bWVudHMiOlsiLS1sb2dkaXIiLCJsb2dkaXIiXSwiY29uZmlndXJlX2t3YXJncyI6e30sIndvcmtpbmdfZGlyZWN0b3J5IjoiL2hvbWUvc2FpL2hkZDEvbWwtbWFzdGVyL21sLWFnZW50cy9neW0tdW5pdHkifQ==', 'db': '', 'logdir': 'logdir', 'path_prefix': '', 'pid': 10591, 'port': 6008, 'start_time': 1595833491, 'version': '2.0.1'}\n",
      "invalid info file: '/tmp/.tensorboard-info/pid-10110.info'\n",
      "Traceback (most recent call last):\n",
      "  File \"/home/sai/.conda/envs/cs231n/lib/python3.7/site-packages/tensorboard/manager.py\", line 316, in get_all\n",
      "    info = _info_from_string(contents)\n",
      "  File \"/home/sai/.conda/envs/cs231n/lib/python3.7/site-packages/tensorboard/manager.py\", line 155, in _info_from_string\n",
      "    raise ValueError(\"incompatible version: %r\" % (json_value,))\n",
      "ValueError: incompatible version: {'cache_key': 'eyJhcmd1bWVudHMiOlsiLS1sb2dkaXIiLCJvdXRwdXQiXSwiY29uZmlndXJlX2t3YXJncyI6e30sIndvcmtpbmdfZGlyZWN0b3J5IjoiL2hvbWUvc2FpL2hkZDEvbWwtbWFzdGVyL21sLWFnZW50cy9neW0tdW5pdHkifQ==', 'db': '', 'logdir': 'output', 'path_prefix': '', 'pid': 10110, 'port': 6007, 'start_time': 1595832794, 'version': '2.0.1'}\n",
      "invalid info file: '/tmp/.tensorboard-info/pid-9874.info'\n",
      "Traceback (most recent call last):\n",
      "  File \"/home/sai/.conda/envs/cs231n/lib/python3.7/site-packages/tensorboard/manager.py\", line 316, in get_all\n",
      "    info = _info_from_string(contents)\n",
      "  File \"/home/sai/.conda/envs/cs231n/lib/python3.7/site-packages/tensorboard/manager.py\", line 155, in _info_from_string\n",
      "    raise ValueError(\"incompatible version: %r\" % (json_value,))\n",
      "ValueError: incompatible version: {'cache_key': 'eyJhcmd1bWVudHMiOlsiLS1sb2dkaXIiLCJsb2dzIl0sImNvbmZpZ3VyZV9rd2FyZ3MiOnt9LCJ3b3JraW5nX2RpcmVjdG9yeSI6Ii9ob21lL3NhaS9oZGQxL21sLW1hc3Rlci9tbC1hZ2VudHMvZ3ltLXVuaXR5In0=', 'db': '', 'logdir': 'logs', 'path_prefix': '', 'pid': 9874, 'port': 6006, 'start_time': 1595832278, 'version': '2.0.1'}\n",
      "invalid info file: '/tmp/.tensorboard-info/pid-10591.info'\n",
      "Traceback (most recent call last):\n",
      "  File \"/home/sai/.conda/envs/cs231n/lib/python3.7/site-packages/tensorboard/manager.py\", line 316, in get_all\n",
      "    info = _info_from_string(contents)\n",
      "  File \"/home/sai/.conda/envs/cs231n/lib/python3.7/site-packages/tensorboard/manager.py\", line 155, in _info_from_string\n",
      "    raise ValueError(\"incompatible version: %r\" % (json_value,))\n",
      "ValueError: incompatible version: {'cache_key': 'eyJhcmd1bWVudHMiOlsiLS1sb2dkaXIiLCJsb2dkaXIiXSwiY29uZmlndXJlX2t3YXJncyI6e30sIndvcmtpbmdfZGlyZWN0b3J5IjoiL2hvbWUvc2FpL2hkZDEvbWwtbWFzdGVyL21sLWFnZW50cy9neW0tdW5pdHkifQ==', 'db': '', 'logdir': 'logdir', 'path_prefix': '', 'pid': 10591, 'port': 6008, 'start_time': 1595833491, 'version': '2.0.1'}\n",
      "invalid info file: '/tmp/.tensorboard-info/pid-10110.info'\n",
      "Traceback (most recent call last):\n",
      "  File \"/home/sai/.conda/envs/cs231n/lib/python3.7/site-packages/tensorboard/manager.py\", line 316, in get_all\n",
      "    info = _info_from_string(contents)\n",
      "  File \"/home/sai/.conda/envs/cs231n/lib/python3.7/site-packages/tensorboard/manager.py\", line 155, in _info_from_string\n",
      "    raise ValueError(\"incompatible version: %r\" % (json_value,))\n",
      "ValueError: incompatible version: {'cache_key': 'eyJhcmd1bWVudHMiOlsiLS1sb2dkaXIiLCJvdXRwdXQiXSwiY29uZmlndXJlX2t3YXJncyI6e30sIndvcmtpbmdfZGlyZWN0b3J5IjoiL2hvbWUvc2FpL2hkZDEvbWwtbWFzdGVyL21sLWFnZW50cy9neW0tdW5pdHkifQ==', 'db': '', 'logdir': 'output', 'path_prefix': '', 'pid': 10110, 'port': 6007, 'start_time': 1595832794, 'version': '2.0.1'}\n",
      "invalid info file: '/tmp/.tensorboard-info/pid-9874.info'\n",
      "Traceback (most recent call last):\n",
      "  File \"/home/sai/.conda/envs/cs231n/lib/python3.7/site-packages/tensorboard/manager.py\", line 316, in get_all\n",
      "    info = _info_from_string(contents)\n",
      "  File \"/home/sai/.conda/envs/cs231n/lib/python3.7/site-packages/tensorboard/manager.py\", line 155, in _info_from_string\n",
      "    raise ValueError(\"incompatible version: %r\" % (json_value,))\n",
      "ValueError: incompatible version: {'cache_key': 'eyJhcmd1bWVudHMiOlsiLS1sb2dkaXIiLCJsb2dzIl0sImNvbmZpZ3VyZV9rd2FyZ3MiOnt9LCJ3b3JraW5nX2RpcmVjdG9yeSI6Ii9ob21lL3NhaS9oZGQxL21sLW1hc3Rlci9tbC1hZ2VudHMvZ3ltLXVuaXR5In0=', 'db': '', 'logdir': 'logs', 'path_prefix': '', 'pid': 9874, 'port': 6006, 'start_time': 1595832278, 'version': '2.0.1'}\n",
      "invalid info file: '/tmp/.tensorboard-info/pid-10591.info'\n",
      "Traceback (most recent call last):\n",
      "  File \"/home/sai/.conda/envs/cs231n/lib/python3.7/site-packages/tensorboard/manager.py\", line 316, in get_all\n",
      "    info = _info_from_string(contents)\n",
      "  File \"/home/sai/.conda/envs/cs231n/lib/python3.7/site-packages/tensorboard/manager.py\", line 155, in _info_from_string\n",
      "    raise ValueError(\"incompatible version: %r\" % (json_value,))\n",
      "ValueError: incompatible version: {'cache_key': 'eyJhcmd1bWVudHMiOlsiLS1sb2dkaXIiLCJsb2dkaXIiXSwiY29uZmlndXJlX2t3YXJncyI6e30sIndvcmtpbmdfZGlyZWN0b3J5IjoiL2hvbWUvc2FpL2hkZDEvbWwtbWFzdGVyL21sLWFnZW50cy9neW0tdW5pdHkifQ==', 'db': '', 'logdir': 'logdir', 'path_prefix': '', 'pid': 10591, 'port': 6008, 'start_time': 1595833491, 'version': '2.0.1'}\n",
      "invalid info file: '/tmp/.tensorboard-info/pid-10110.info'\n",
      "Traceback (most recent call last):\n",
      "  File \"/home/sai/.conda/envs/cs231n/lib/python3.7/site-packages/tensorboard/manager.py\", line 316, in get_all\n",
      "    info = _info_from_string(contents)\n",
      "  File \"/home/sai/.conda/envs/cs231n/lib/python3.7/site-packages/tensorboard/manager.py\", line 155, in _info_from_string\n",
      "    raise ValueError(\"incompatible version: %r\" % (json_value,))\n",
      "ValueError: incompatible version: {'cache_key': 'eyJhcmd1bWVudHMiOlsiLS1sb2dkaXIiLCJvdXRwdXQiXSwiY29uZmlndXJlX2t3YXJncyI6e30sIndvcmtpbmdfZGlyZWN0b3J5IjoiL2hvbWUvc2FpL2hkZDEvbWwtbWFzdGVyL21sLWFnZW50cy9neW0tdW5pdHkifQ==', 'db': '', 'logdir': 'output', 'path_prefix': '', 'pid': 10110, 'port': 6007, 'start_time': 1595832794, 'version': '2.0.1'}\n"
     ]
    },
    {
     "name": "stderr",
     "output_type": "stream",
     "text": [
      "invalid info file: '/tmp/.tensorboard-info/pid-9874.info'\n",
      "Traceback (most recent call last):\n",
      "  File \"/home/sai/.conda/envs/cs231n/lib/python3.7/site-packages/tensorboard/manager.py\", line 316, in get_all\n",
      "    info = _info_from_string(contents)\n",
      "  File \"/home/sai/.conda/envs/cs231n/lib/python3.7/site-packages/tensorboard/manager.py\", line 155, in _info_from_string\n",
      "    raise ValueError(\"incompatible version: %r\" % (json_value,))\n",
      "ValueError: incompatible version: {'cache_key': 'eyJhcmd1bWVudHMiOlsiLS1sb2dkaXIiLCJsb2dzIl0sImNvbmZpZ3VyZV9rd2FyZ3MiOnt9LCJ3b3JraW5nX2RpcmVjdG9yeSI6Ii9ob21lL3NhaS9oZGQxL21sLW1hc3Rlci9tbC1hZ2VudHMvZ3ltLXVuaXR5In0=', 'db': '', 'logdir': 'logs', 'path_prefix': '', 'pid': 9874, 'port': 6006, 'start_time': 1595832278, 'version': '2.0.1'}\n",
      "invalid info file: '/tmp/.tensorboard-info/pid-10591.info'\n",
      "Traceback (most recent call last):\n",
      "  File \"/home/sai/.conda/envs/cs231n/lib/python3.7/site-packages/tensorboard/manager.py\", line 316, in get_all\n",
      "    info = _info_from_string(contents)\n",
      "  File \"/home/sai/.conda/envs/cs231n/lib/python3.7/site-packages/tensorboard/manager.py\", line 155, in _info_from_string\n",
      "    raise ValueError(\"incompatible version: %r\" % (json_value,))\n",
      "ValueError: incompatible version: {'cache_key': 'eyJhcmd1bWVudHMiOlsiLS1sb2dkaXIiLCJsb2dkaXIiXSwiY29uZmlndXJlX2t3YXJncyI6e30sIndvcmtpbmdfZGlyZWN0b3J5IjoiL2hvbWUvc2FpL2hkZDEvbWwtbWFzdGVyL21sLWFnZW50cy9neW0tdW5pdHkifQ==', 'db': '', 'logdir': 'logdir', 'path_prefix': '', 'pid': 10591, 'port': 6008, 'start_time': 1595833491, 'version': '2.0.1'}\n",
      "invalid info file: '/tmp/.tensorboard-info/pid-10110.info'\n",
      "Traceback (most recent call last):\n",
      "  File \"/home/sai/.conda/envs/cs231n/lib/python3.7/site-packages/tensorboard/manager.py\", line 316, in get_all\n",
      "    info = _info_from_string(contents)\n",
      "  File \"/home/sai/.conda/envs/cs231n/lib/python3.7/site-packages/tensorboard/manager.py\", line 155, in _info_from_string\n",
      "    raise ValueError(\"incompatible version: %r\" % (json_value,))\n",
      "ValueError: incompatible version: {'cache_key': 'eyJhcmd1bWVudHMiOlsiLS1sb2dkaXIiLCJvdXRwdXQiXSwiY29uZmlndXJlX2t3YXJncyI6e30sIndvcmtpbmdfZGlyZWN0b3J5IjoiL2hvbWUvc2FpL2hkZDEvbWwtbWFzdGVyL21sLWFnZW50cy9neW0tdW5pdHkifQ==', 'db': '', 'logdir': 'output', 'path_prefix': '', 'pid': 10110, 'port': 6007, 'start_time': 1595832794, 'version': '2.0.1'}\n",
      "invalid info file: '/tmp/.tensorboard-info/pid-9874.info'\n",
      "Traceback (most recent call last):\n",
      "  File \"/home/sai/.conda/envs/cs231n/lib/python3.7/site-packages/tensorboard/manager.py\", line 316, in get_all\n",
      "    info = _info_from_string(contents)\n",
      "  File \"/home/sai/.conda/envs/cs231n/lib/python3.7/site-packages/tensorboard/manager.py\", line 155, in _info_from_string\n",
      "    raise ValueError(\"incompatible version: %r\" % (json_value,))\n",
      "ValueError: incompatible version: {'cache_key': 'eyJhcmd1bWVudHMiOlsiLS1sb2dkaXIiLCJsb2dzIl0sImNvbmZpZ3VyZV9rd2FyZ3MiOnt9LCJ3b3JraW5nX2RpcmVjdG9yeSI6Ii9ob21lL3NhaS9oZGQxL21sLW1hc3Rlci9tbC1hZ2VudHMvZ3ltLXVuaXR5In0=', 'db': '', 'logdir': 'logs', 'path_prefix': '', 'pid': 9874, 'port': 6006, 'start_time': 1595832278, 'version': '2.0.1'}\n",
      "invalid info file: '/tmp/.tensorboard-info/pid-10591.info'\n",
      "Traceback (most recent call last):\n",
      "  File \"/home/sai/.conda/envs/cs231n/lib/python3.7/site-packages/tensorboard/manager.py\", line 316, in get_all\n",
      "    info = _info_from_string(contents)\n",
      "  File \"/home/sai/.conda/envs/cs231n/lib/python3.7/site-packages/tensorboard/manager.py\", line 155, in _info_from_string\n",
      "    raise ValueError(\"incompatible version: %r\" % (json_value,))\n",
      "ValueError: incompatible version: {'cache_key': 'eyJhcmd1bWVudHMiOlsiLS1sb2dkaXIiLCJsb2dkaXIiXSwiY29uZmlndXJlX2t3YXJncyI6e30sIndvcmtpbmdfZGlyZWN0b3J5IjoiL2hvbWUvc2FpL2hkZDEvbWwtbWFzdGVyL21sLWFnZW50cy9neW0tdW5pdHkifQ==', 'db': '', 'logdir': 'logdir', 'path_prefix': '', 'pid': 10591, 'port': 6008, 'start_time': 1595833491, 'version': '2.0.1'}\n",
      "invalid info file: '/tmp/.tensorboard-info/pid-10110.info'\n",
      "Traceback (most recent call last):\n",
      "  File \"/home/sai/.conda/envs/cs231n/lib/python3.7/site-packages/tensorboard/manager.py\", line 316, in get_all\n",
      "    info = _info_from_string(contents)\n",
      "  File \"/home/sai/.conda/envs/cs231n/lib/python3.7/site-packages/tensorboard/manager.py\", line 155, in _info_from_string\n",
      "    raise ValueError(\"incompatible version: %r\" % (json_value,))\n",
      "ValueError: incompatible version: {'cache_key': 'eyJhcmd1bWVudHMiOlsiLS1sb2dkaXIiLCJvdXRwdXQiXSwiY29uZmlndXJlX2t3YXJncyI6e30sIndvcmtpbmdfZGlyZWN0b3J5IjoiL2hvbWUvc2FpL2hkZDEvbWwtbWFzdGVyL21sLWFnZW50cy9neW0tdW5pdHkifQ==', 'db': '', 'logdir': 'output', 'path_prefix': '', 'pid': 10110, 'port': 6007, 'start_time': 1595832794, 'version': '2.0.1'}\n",
      "invalid info file: '/tmp/.tensorboard-info/pid-9874.info'\n",
      "Traceback (most recent call last):\n",
      "  File \"/home/sai/.conda/envs/cs231n/lib/python3.7/site-packages/tensorboard/manager.py\", line 316, in get_all\n",
      "    info = _info_from_string(contents)\n",
      "  File \"/home/sai/.conda/envs/cs231n/lib/python3.7/site-packages/tensorboard/manager.py\", line 155, in _info_from_string\n",
      "    raise ValueError(\"incompatible version: %r\" % (json_value,))\n",
      "ValueError: incompatible version: {'cache_key': 'eyJhcmd1bWVudHMiOlsiLS1sb2dkaXIiLCJsb2dzIl0sImNvbmZpZ3VyZV9rd2FyZ3MiOnt9LCJ3b3JraW5nX2RpcmVjdG9yeSI6Ii9ob21lL3NhaS9oZGQxL21sLW1hc3Rlci9tbC1hZ2VudHMvZ3ltLXVuaXR5In0=', 'db': '', 'logdir': 'logs', 'path_prefix': '', 'pid': 9874, 'port': 6006, 'start_time': 1595832278, 'version': '2.0.1'}\n",
      "invalid info file: '/tmp/.tensorboard-info/pid-10591.info'\n",
      "Traceback (most recent call last):\n",
      "  File \"/home/sai/.conda/envs/cs231n/lib/python3.7/site-packages/tensorboard/manager.py\", line 316, in get_all\n",
      "    info = _info_from_string(contents)\n",
      "  File \"/home/sai/.conda/envs/cs231n/lib/python3.7/site-packages/tensorboard/manager.py\", line 155, in _info_from_string\n",
      "    raise ValueError(\"incompatible version: %r\" % (json_value,))\n",
      "ValueError: incompatible version: {'cache_key': 'eyJhcmd1bWVudHMiOlsiLS1sb2dkaXIiLCJsb2dkaXIiXSwiY29uZmlndXJlX2t3YXJncyI6e30sIndvcmtpbmdfZGlyZWN0b3J5IjoiL2hvbWUvc2FpL2hkZDEvbWwtbWFzdGVyL21sLWFnZW50cy9neW0tdW5pdHkifQ==', 'db': '', 'logdir': 'logdir', 'path_prefix': '', 'pid': 10591, 'port': 6008, 'start_time': 1595833491, 'version': '2.0.1'}\n",
      "invalid info file: '/tmp/.tensorboard-info/pid-10110.info'\n",
      "Traceback (most recent call last):\n",
      "  File \"/home/sai/.conda/envs/cs231n/lib/python3.7/site-packages/tensorboard/manager.py\", line 316, in get_all\n",
      "    info = _info_from_string(contents)\n",
      "  File \"/home/sai/.conda/envs/cs231n/lib/python3.7/site-packages/tensorboard/manager.py\", line 155, in _info_from_string\n",
      "    raise ValueError(\"incompatible version: %r\" % (json_value,))\n",
      "ValueError: incompatible version: {'cache_key': 'eyJhcmd1bWVudHMiOlsiLS1sb2dkaXIiLCJvdXRwdXQiXSwiY29uZmlndXJlX2t3YXJncyI6e30sIndvcmtpbmdfZGlyZWN0b3J5IjoiL2hvbWUvc2FpL2hkZDEvbWwtbWFzdGVyL21sLWFnZW50cy9neW0tdW5pdHkifQ==', 'db': '', 'logdir': 'output', 'path_prefix': '', 'pid': 10110, 'port': 6007, 'start_time': 1595832794, 'version': '2.0.1'}\n",
      "invalid info file: '/tmp/.tensorboard-info/pid-9874.info'\n",
      "Traceback (most recent call last):\n",
      "  File \"/home/sai/.conda/envs/cs231n/lib/python3.7/site-packages/tensorboard/manager.py\", line 316, in get_all\n",
      "    info = _info_from_string(contents)\n",
      "  File \"/home/sai/.conda/envs/cs231n/lib/python3.7/site-packages/tensorboard/manager.py\", line 155, in _info_from_string\n",
      "    raise ValueError(\"incompatible version: %r\" % (json_value,))\n",
      "ValueError: incompatible version: {'cache_key': 'eyJhcmd1bWVudHMiOlsiLS1sb2dkaXIiLCJsb2dzIl0sImNvbmZpZ3VyZV9rd2FyZ3MiOnt9LCJ3b3JraW5nX2RpcmVjdG9yeSI6Ii9ob21lL3NhaS9oZGQxL21sLW1hc3Rlci9tbC1hZ2VudHMvZ3ltLXVuaXR5In0=', 'db': '', 'logdir': 'logs', 'path_prefix': '', 'pid': 9874, 'port': 6006, 'start_time': 1595832278, 'version': '2.0.1'}\n"
     ]
    },
    {
     "data": {
      "text/plain": [
       "Reusing TensorBoard on port 6009 (pid 335), started 0:05:40 ago. (Use '!kill 335' to kill it.)"
      ]
     },
     "metadata": {},
     "output_type": "display_data"
    },
    {
     "name": "stderr",
     "output_type": "stream",
     "text": [
      "invalid info file: '/tmp/.tensorboard-info/pid-10591.info'\n",
      "Traceback (most recent call last):\n",
      "  File \"/home/sai/.conda/envs/cs231n/lib/python3.7/site-packages/tensorboard/manager.py\", line 316, in get_all\n",
      "    info = _info_from_string(contents)\n",
      "  File \"/home/sai/.conda/envs/cs231n/lib/python3.7/site-packages/tensorboard/manager.py\", line 155, in _info_from_string\n",
      "    raise ValueError(\"incompatible version: %r\" % (json_value,))\n",
      "ValueError: incompatible version: {'cache_key': 'eyJhcmd1bWVudHMiOlsiLS1sb2dkaXIiLCJsb2dkaXIiXSwiY29uZmlndXJlX2t3YXJncyI6e30sIndvcmtpbmdfZGlyZWN0b3J5IjoiL2hvbWUvc2FpL2hkZDEvbWwtbWFzdGVyL21sLWFnZW50cy9neW0tdW5pdHkifQ==', 'db': '', 'logdir': 'logdir', 'path_prefix': '', 'pid': 10591, 'port': 6008, 'start_time': 1595833491, 'version': '2.0.1'}\n",
      "invalid info file: '/tmp/.tensorboard-info/pid-10110.info'\n",
      "Traceback (most recent call last):\n",
      "  File \"/home/sai/.conda/envs/cs231n/lib/python3.7/site-packages/tensorboard/manager.py\", line 316, in get_all\n",
      "    info = _info_from_string(contents)\n",
      "  File \"/home/sai/.conda/envs/cs231n/lib/python3.7/site-packages/tensorboard/manager.py\", line 155, in _info_from_string\n",
      "    raise ValueError(\"incompatible version: %r\" % (json_value,))\n",
      "ValueError: incompatible version: {'cache_key': 'eyJhcmd1bWVudHMiOlsiLS1sb2dkaXIiLCJvdXRwdXQiXSwiY29uZmlndXJlX2t3YXJncyI6e30sIndvcmtpbmdfZGlyZWN0b3J5IjoiL2hvbWUvc2FpL2hkZDEvbWwtbWFzdGVyL21sLWFnZW50cy9neW0tdW5pdHkifQ==', 'db': '', 'logdir': 'output', 'path_prefix': '', 'pid': 10110, 'port': 6007, 'start_time': 1595832794, 'version': '2.0.1'}\n",
      "invalid info file: '/tmp/.tensorboard-info/pid-9874.info'\n",
      "Traceback (most recent call last):\n",
      "  File \"/home/sai/.conda/envs/cs231n/lib/python3.7/site-packages/tensorboard/manager.py\", line 316, in get_all\n",
      "    info = _info_from_string(contents)\n",
      "  File \"/home/sai/.conda/envs/cs231n/lib/python3.7/site-packages/tensorboard/manager.py\", line 155, in _info_from_string\n",
      "    raise ValueError(\"incompatible version: %r\" % (json_value,))\n",
      "ValueError: incompatible version: {'cache_key': 'eyJhcmd1bWVudHMiOlsiLS1sb2dkaXIiLCJsb2dzIl0sImNvbmZpZ3VyZV9rd2FyZ3MiOnt9LCJ3b3JraW5nX2RpcmVjdG9yeSI6Ii9ob21lL3NhaS9oZGQxL21sLW1hc3Rlci9tbC1hZ2VudHMvZ3ltLXVuaXR5In0=', 'db': '', 'logdir': 'logs', 'path_prefix': '', 'pid': 9874, 'port': 6006, 'start_time': 1595832278, 'version': '2.0.1'}\n",
      "invalid info file: '/tmp/.tensorboard-info/pid-10591.info'\n",
      "Traceback (most recent call last):\n",
      "  File \"/home/sai/.conda/envs/cs231n/lib/python3.7/site-packages/tensorboard/manager.py\", line 316, in get_all\n",
      "    info = _info_from_string(contents)\n",
      "  File \"/home/sai/.conda/envs/cs231n/lib/python3.7/site-packages/tensorboard/manager.py\", line 155, in _info_from_string\n",
      "    raise ValueError(\"incompatible version: %r\" % (json_value,))\n",
      "ValueError: incompatible version: {'cache_key': 'eyJhcmd1bWVudHMiOlsiLS1sb2dkaXIiLCJsb2dkaXIiXSwiY29uZmlndXJlX2t3YXJncyI6e30sIndvcmtpbmdfZGlyZWN0b3J5IjoiL2hvbWUvc2FpL2hkZDEvbWwtbWFzdGVyL21sLWFnZW50cy9neW0tdW5pdHkifQ==', 'db': '', 'logdir': 'logdir', 'path_prefix': '', 'pid': 10591, 'port': 6008, 'start_time': 1595833491, 'version': '2.0.1'}\n",
      "invalid info file: '/tmp/.tensorboard-info/pid-10110.info'\n",
      "Traceback (most recent call last):\n",
      "  File \"/home/sai/.conda/envs/cs231n/lib/python3.7/site-packages/tensorboard/manager.py\", line 316, in get_all\n",
      "    info = _info_from_string(contents)\n",
      "  File \"/home/sai/.conda/envs/cs231n/lib/python3.7/site-packages/tensorboard/manager.py\", line 155, in _info_from_string\n",
      "    raise ValueError(\"incompatible version: %r\" % (json_value,))\n",
      "ValueError: incompatible version: {'cache_key': 'eyJhcmd1bWVudHMiOlsiLS1sb2dkaXIiLCJvdXRwdXQiXSwiY29uZmlndXJlX2t3YXJncyI6e30sIndvcmtpbmdfZGlyZWN0b3J5IjoiL2hvbWUvc2FpL2hkZDEvbWwtbWFzdGVyL21sLWFnZW50cy9neW0tdW5pdHkifQ==', 'db': '', 'logdir': 'output', 'path_prefix': '', 'pid': 10110, 'port': 6007, 'start_time': 1595832794, 'version': '2.0.1'}\n",
      "invalid info file: '/tmp/.tensorboard-info/pid-9874.info'\n",
      "Traceback (most recent call last):\n",
      "  File \"/home/sai/.conda/envs/cs231n/lib/python3.7/site-packages/tensorboard/manager.py\", line 316, in get_all\n",
      "    info = _info_from_string(contents)\n",
      "  File \"/home/sai/.conda/envs/cs231n/lib/python3.7/site-packages/tensorboard/manager.py\", line 155, in _info_from_string\n",
      "    raise ValueError(\"incompatible version: %r\" % (json_value,))\n",
      "ValueError: incompatible version: {'cache_key': 'eyJhcmd1bWVudHMiOlsiLS1sb2dkaXIiLCJsb2dzIl0sImNvbmZpZ3VyZV9rd2FyZ3MiOnt9LCJ3b3JraW5nX2RpcmVjdG9yeSI6Ii9ob21lL3NhaS9oZGQxL21sLW1hc3Rlci9tbC1hZ2VudHMvZ3ltLXVuaXR5In0=', 'db': '', 'logdir': 'logs', 'path_prefix': '', 'pid': 9874, 'port': 6006, 'start_time': 1595832278, 'version': '2.0.1'}\n"
     ]
    },
    {
     "data": {
      "text/html": [
       "\n",
       "        <iframe\n",
       "            width=\"100%\"\n",
       "            height=\"800\"\n",
       "            src=\"http://localhost:6009\"\n",
       "            frameborder=\"0\"\n",
       "            allowfullscreen\n",
       "        ></iframe>\n",
       "        "
      ],
      "text/plain": [
       "<IPython.lib.display.IFrame at 0x7f6fbc1e0710>"
      ]
     },
     "metadata": {},
     "output_type": "display_data"
    }
   ],
   "source": [
    "%tensorboard inline\n",
    "%tensorboard --logdir './graphs'"
   ]
  },
  {
   "cell_type": "code",
   "execution_count": 94,
   "metadata": {},
   "outputs": [
    {
     "data": {
      "text/plain": [
       "75.64410961937936"
      ]
     },
     "execution_count": 94,
     "metadata": {},
     "output_type": "execute_result"
    }
   ],
   "source": [
    "t0 = time.time()\n",
    "for i in range(1,100):\n",
    "    sess = tf.Session(graph= graph)\n",
    "    op = graph.get_tensor_by_name(\"action:0\")\n",
    "    sess.run(op, feed_dict)\n",
    "t1 = time.time()\n",
    "100.0/(t1-t0)"
   ]
  },
  {
   "cell_type": "code",
   "execution_count": null,
   "metadata": {},
   "outputs": [],
   "source": []
  }
 ],
 "metadata": {
  "kernelspec": {
   "display_name": "Python 3",
   "language": "python",
   "name": "python3"
  },
  "language_info": {
   "codemirror_mode": {
    "name": "ipython",
    "version": 3
   },
   "file_extension": ".py",
   "mimetype": "text/x-python",
   "name": "python",
   "nbconvert_exporter": "python",
   "pygments_lexer": "ipython3",
   "version": "3.7.4"
  }
 },
 "nbformat": 4,
 "nbformat_minor": 2
}
